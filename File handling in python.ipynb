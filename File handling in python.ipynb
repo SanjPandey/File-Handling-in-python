{
 "cells": [
  {
   "cell_type": "markdown",
   "id": "ea80b811",
   "metadata": {},
   "source": [
    "# File Handling"
   ]
  },
  {
   "cell_type": "markdown",
   "id": "32dae274",
   "metadata": {},
   "source": [
    "# how to read a file:  First open the file the it  read"
   ]
  },
  {
   "cell_type": "code",
   "execution_count": 6,
   "id": "c5e8d7cf",
   "metadata": {},
   "outputs": [
    {
     "name": "stdout",
     "output_type": "stream",
     "text": [
      "I am sanj\n",
      "I am priya\n",
      "I am anu\n",
      "I am piecefull soal\n"
     ]
    }
   ],
   "source": [
    "file=open(r\"C:\\Users\\HP\\Desktop\\pp.txt\",\"r\")\n",
    "print(file.read())\n",
    "file.close()"
   ]
  },
  {
   "cell_type": "markdown",
   "id": "7c95fafd",
   "metadata": {},
   "source": [
    "# Read the file up to 7 character\n"
   ]
  },
  {
   "cell_type": "code",
   "execution_count": 8,
   "id": "26186c4c",
   "metadata": {},
   "outputs": [
    {
     "name": "stdout",
     "output_type": "stream",
     "text": [
      "I am sa\n"
     ]
    }
   ],
   "source": [
    "file=open(r\"C:\\Users\\HP\\Desktop\\pp.txt\",\"r\")\n",
    "print(file.read(7))\n",
    "file.close()"
   ]
  },
  {
   "cell_type": "markdown",
   "id": "76a3bcd0",
   "metadata": {},
   "source": [
    "# Read one line at a time ,readline()"
   ]
  },
  {
   "cell_type": "code",
   "execution_count": 10,
   "id": "6bdf1def",
   "metadata": {},
   "outputs": [
    {
     "name": "stdout",
     "output_type": "stream",
     "text": [
      "I am sanj\n",
      "\n"
     ]
    }
   ],
   "source": [
    "file=open(r\"C:\\Users\\HP\\Desktop\\pp.txt\",\"r\")\n",
    "print(file.readline())\n",
    "file.close()"
   ]
  },
  {
   "cell_type": "markdown",
   "id": "70ee9e29",
   "metadata": {},
   "source": [
    "# Read all line,on by one"
   ]
  },
  {
   "cell_type": "code",
   "execution_count": 12,
   "id": "a4dfc193",
   "metadata": {},
   "outputs": [
    {
     "name": "stdout",
     "output_type": "stream",
     "text": [
      "['I am sanj\\n', 'I am priya\\n', 'I am anu\\n', 'I am piecefull soal']\n"
     ]
    }
   ],
   "source": [
    "file=open(r\"C:\\Users\\HP\\Desktop\\pp.txt\",\"r\")\n",
    "print(file.readlines())\n",
    "file.close()"
   ]
  },
  {
   "cell_type": "markdown",
   "id": "3a1dd34b",
   "metadata": {},
   "source": [
    "# write in  file, if file present then write,if not present the Create it. file using mode =w"
   ]
  },
  {
   "cell_type": "code",
   "execution_count": 15,
   "id": "24f64842",
   "metadata": {},
   "outputs": [],
   "source": [
    "file=open(r\"C:\\Users\\HP\\Desktop\\ll.txt\",\"w\")\n",
    "file.write(\"I am live in khopoli\")\n",
    "file.write(\"i am live in pune\")\n",
    "file.write(\"i am okay\")\n",
    "file.close()"
   ]
  },
  {
   "cell_type": "markdown",
   "id": "5053d3e5",
   "metadata": {},
   "source": [
    "# To create new file"
   ]
  },
  {
   "cell_type": "code",
   "execution_count": 20,
   "id": "4f43b4a7",
   "metadata": {},
   "outputs": [],
   "source": [
    "import os\n",
    "os.remove(r\"C:\\Users\\HP\\Desktop\\kk.txt\")"
   ]
  },
  {
   "cell_type": "markdown",
   "id": "85e7eb3e",
   "metadata": {},
   "source": [
    "# delete or remove the file"
   ]
  },
  {
   "cell_type": "code",
   "execution_count": 16,
   "id": "f03b69c7",
   "metadata": {},
   "outputs": [],
   "source": [
    "file=open(r\"C:\\Users\\HP\\Desktop\\kk.txt\",\"x\")\n",
    "file.write(\"I am live in Banglore\")\n",
    "file.close()"
   ]
  },
  {
   "cell_type": "markdown",
   "id": "f109d600",
   "metadata": {},
   "source": [
    "# check the file is present or not"
   ]
  },
  {
   "cell_type": "code",
   "execution_count": 22,
   "id": "95bd12be",
   "metadata": {},
   "outputs": [
    {
     "name": "stdout",
     "output_type": "stream",
     "text": [
      "there is no file in given path\n"
     ]
    }
   ],
   "source": [
    "import os\n",
    "if os.path.exists(r\"C:\\Users\\HP\\Desktop\\nn.txt\"):\n",
    "    os.remove(\"nn.txt\")\n",
    "else:\n",
    "    print(\"there is no file in given path\")"
   ]
  },
  {
   "cell_type": "markdown",
   "id": "c22a7a6d",
   "metadata": {},
   "source": [
    "# another example to read lien by line using for loop"
   ]
  },
  {
   "cell_type": "code",
   "execution_count": 25,
   "id": "55eb9eee",
   "metadata": {},
   "outputs": [
    {
     "name": "stdout",
     "output_type": "stream",
     "text": [
      "['I am priya\\n', 'I am anu\\n', 'I am piecefull soal']\n"
     ]
    }
   ],
   "source": [
    "file=open(r\"C:\\Users\\HP\\Desktop\\pp.txt\",\"r\")\n",
    "for i in file:\n",
    "    print(file.readlines())\n",
    "    \n",
    "file.close()"
   ]
  },
  {
   "cell_type": "markdown",
   "id": "2af007df",
   "metadata": {},
   "source": [
    "# adding the anoteher content using append"
   ]
  },
  {
   "cell_type": "code",
   "execution_count": 30,
   "id": "c96c0903",
   "metadata": {},
   "outputs": [],
   "source": [
    "file=open(r\"C:\\Users\\HP\\Desktop\\pp.txt\",\"a\")\n",
    "file.write(\"I am sleepy\")\n",
    "file.close()"
   ]
  },
  {
   "cell_type": "markdown",
   "id": "8ddfef7b",
   "metadata": {},
   "source": [
    "# To see the adding content"
   ]
  },
  {
   "cell_type": "code",
   "execution_count": 31,
   "id": "a2116896",
   "metadata": {},
   "outputs": [
    {
     "name": "stdout",
     "output_type": "stream",
     "text": [
      "['I am sanj\\n', 'I am priya\\n', 'I am anu\\n', 'I am piecefull soalI am sonaI am sonaI am sleepyI am sleepy']\n"
     ]
    }
   ],
   "source": [
    "file=open(r\"C:\\Users\\HP\\Desktop\\pp.txt\",\"r\")\n",
    "print(file.readlines())\n",
    "file.close()"
   ]
  },
  {
   "cell_type": "code",
   "execution_count": 61,
   "id": "0b82c276",
   "metadata": {},
   "outputs": [
    {
     "name": "stdout",
     "output_type": "stream",
     "text": [
      "Common Lines:\n",
      "I am priya\n"
     ]
    }
   ],
   "source": [
    "\n",
    "\n",
    "file1= open(r\"C:\\Users\\HP\\Desktop\\pp.txt\", \"r\")\n",
    "first_file = set(file1.read().splitlines())\n",
    "\n",
    "file2= open( r\"C:\\Users\\HP\\Desktop\\ss.txt\", \"r\")\n",
    "sec_file = set(file2.read().splitlines())\n",
    "\n",
    "matching_lines = first_file.intersection(sec_file)\n",
    "\n",
    "if matching_lines:\n",
    "    print(\"Common Lines:\")\n",
    "    for line in matching_lines:\n",
    "        print(line)\n",
    "else:\n",
    "    print(\"No common lines found.\")\n",
    "\n"
   ]
  },
  {
   "cell_type": "code",
   "execution_count": 50,
   "id": "a8558a2c",
   "metadata": {},
   "outputs": [],
   "source": [
    "data1=open(r\"C:\\Users\\HP\\Desktop\\mm.txt\",\"r\")\n",
    "data2=open(r\"C:\\Users\\HP\\Desktop\\pp.txt\",\"r\")"
   ]
  },
  {
   "cell_type": "code",
   "execution_count": 51,
   "id": "b241dce6",
   "metadata": {},
   "outputs": [
    {
     "name": "stdout",
     "output_type": "stream",
     "text": [
      "{'kumar'}\n"
     ]
    }
   ],
   "source": [
    "uname1=[]\n",
    "for i in data1:\n",
    "    if i:\n",
    "        i=i.split(\"@\")[0]\n",
    "        uname1.append(i)\n",
    "        \n",
    "uname2=[]\n",
    "for i in data2:\n",
    "    if i:\n",
    "        i=i.split(\"@\")[0]\n",
    "        uname2.append(i)\n",
    "        \n",
    "matching_name=set(uname1).intersection(set(uname2))\n",
    "print(matching_name)"
   ]
  },
  {
   "cell_type": "code",
   "execution_count": 63,
   "id": "eede8b2c",
   "metadata": {},
   "outputs": [
    {
     "name": "stdout",
     "output_type": "stream",
     "text": [
      "{'kumar'}\n"
     ]
    }
   ],
   "source": [
    "data1=open(r\"C:\\Users\\HP\\Desktop\\mm.txt\",\"r\")\n",
    "data2=open(r\"C:\\Users\\HP\\Desktop\\pp.txt\",\"r\")\n",
    "uname1 = [i.split(\"@\")[0] for i in data1 if i]\n",
    "uname2 = [i.split(\"@\")[0] for i in data2 if i]\n",
    "\n",
    "matching_name = set(uname1).intersection(uname2)\n",
    "print(matching_name)\n",
    "\n",
    "        "
   ]
  },
  {
   "cell_type": "code",
   "execution_count": 95,
   "id": "7ce84ab5",
   "metadata": {},
   "outputs": [
    {
     "name": "stdout",
     "output_type": "stream",
     "text": [
      "{'apple': 2, 'grapes': 1, 'orange': 1}\n"
     ]
    }
   ],
   "source": [
    "a=[\"apple\",\"grapes\",\"apple\",\"orange\"]\n",
    "\n",
    "count={}\n",
    "\n",
    "for i in a:\n",
    "    if i in count:\n",
    "        count[i] +=1\n",
    "    else:\n",
    "        count[i]=1\n",
    "print(count)\n",
    "       \n",
    "        "
   ]
  },
  {
   "cell_type": "code",
   "execution_count": null,
   "id": "b8924a58",
   "metadata": {},
   "outputs": [],
   "source": []
  }
 ],
 "metadata": {
  "kernelspec": {
   "display_name": "Python 3 (ipykernel)",
   "language": "python",
   "name": "python3"
  },
  "language_info": {
   "codemirror_mode": {
    "name": "ipython",
    "version": 3
   },
   "file_extension": ".py",
   "mimetype": "text/x-python",
   "name": "python",
   "nbconvert_exporter": "python",
   "pygments_lexer": "ipython3",
   "version": "3.11.5"
  }
 },
 "nbformat": 4,
 "nbformat_minor": 5
}
